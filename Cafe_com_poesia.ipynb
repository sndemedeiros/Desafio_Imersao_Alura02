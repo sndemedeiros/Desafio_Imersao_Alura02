{
  "nbformat": 4,
  "nbformat_minor": 0,
  "metadata": {
    "colab": {
      "provenance": [],
      "authorship_tag": "ABX9TyPP7t6JWDJRpMP8Ofj9yt8+",
      "include_colab_link": true
    },
    "kernelspec": {
      "name": "python3",
      "display_name": "Python 3"
    },
    "language_info": {
      "name": "python"
    }
  },
  "cells": [
    {
      "cell_type": "markdown",
      "metadata": {
        "id": "view-in-github",
        "colab_type": "text"
      },
      "source": [
        "<a href=\"https://colab.research.google.com/github/sndemedeiros/Desafio_Imersao_Alura02/blob/main/Cafe_com_poesia.ipynb\" target=\"_parent\"><img src=\"https://colab.research.google.com/assets/colab-badge.svg\" alt=\"Open In Colab\"/></a>"
      ]
    },
    {
      "cell_type": "code",
      "execution_count": 20,
      "metadata": {
        "id": "ql5cGiORHYoN"
      },
      "outputs": [],
      "source": [
        "import google.generativeai as genai\n",
        "import random"
      ]
    },
    {
      "cell_type": "code",
      "source": [
        "# Configuração da API\n",
        "from google.colab import userdata\n",
        "api_key = userdata.get('SECRET_KEY')\n",
        "genai.configure(api_key=api_key)\n"
      ],
      "metadata": {
        "id": "xY-95WqjHjQl"
      },
      "execution_count": 21,
      "outputs": []
    },
    {
      "cell_type": "code",
      "source": [
        "# Configurações do modelo\n",
        "generation_config = {\n",
        "    \"candidate_count\": 1,\n",
        "    \"temperature\": 0.7\n",
        "}\n",
        "safety_settings = {\n",
        "    'HATE': 'BLOCK_NONE',\n",
        "    'HARASSMENT': 'BLOCK_NONE',\n",
        "    'SEXUAL': 'BLOCK_NONE',\n",
        "    'DANGEROUS': 'BLOCK_NONE'\n",
        "}\n",
        "\n",
        "model = genai.GenerativeModel(\n",
        "    model_name='gemini-1.0-pro',\n",
        "    generation_config=generation_config,\n",
        "    safety_settings=safety_settings\n",
        ")"
      ],
      "metadata": {
        "id": "d8Od1C6xHlQr"
      },
      "execution_count": 22,
      "outputs": []
    },
    {
      "cell_type": "code",
      "source": [
        "# Função para gerar poesia\n",
        "def generate_poetry(feeling):\n",
        "    prompt = f\"Crie uma poesia sobre se sentir {feeling}.\"\n",
        "    response = model.generate_content(prompt)\n",
        "    return response.text"
      ],
      "metadata": {
        "id": "qjP5ZoKcHzf1"
      },
      "execution_count": 23,
      "outputs": []
    },
    {
      "cell_type": "code",
      "source": [
        "# Função para recomendar um café baseado no humor\n",
        "def recommend_coffee(feeling):\n",
        "    recommendations = {\n",
        "        'feliz': 'Um café com leite cremoso para celebrar o seu bom humor!',\n",
        "        'triste': 'Um café forte para te dar um impulso de energia e melhorar seu dia!',\n",
        "        'cansado': 'Um espresso duplo para revitalizar suas energias!',\n",
        "        'relaxado': 'Um café descafeinado para manter sua tranquilidade.',\n",
        "        'inspirado': 'Um mocha, para adicionar um toque de chocolate à sua inspiração!'\n",
        "    }\n",
        "    return recommendations.get(feeling.lower(), 'Um café americano clássico para acompanhar seu dia!')\n",
        "\n"
      ],
      "metadata": {
        "id": "iX2UaSeLH5ES"
      },
      "execution_count": 24,
      "outputs": []
    },
    {
      "cell_type": "code",
      "source": [
        "# Função para gerar mensagens baseadas no sentimento\n",
        "def get_message(feeling):\n",
        "    happy = ['Continue espalhando essa alegria!', 'O seu sorriso pode iluminar qualquer dia.']\n",
        "    sad = ['Lembre-se, após a chuva sempre vem um arco-íris.', 'Mantenha a esperança, as coisas vão melhorar.']\n",
        "    tired = ['Tire um tempo para descansar. Você merece!', 'Recarregue as energias, amanhã é um novo dia.']\n",
        "    relaxed = ['Continue encontrando paz nos pequenos momentos.', 'Relaxe, você está fazendo um ótimo trabalho.']\n",
        "    inspired = ['Use essa inspiração para criar algo maravilhoso!', 'Transforme sua inspiração em ação.']\n",
        "\n",
        "    feelings_map = {\n",
        "        'feliz': happy,\n",
        "        'triste': sad,\n",
        "        'cansado': tired,\n",
        "        'relaxado': relaxed,\n",
        "        'inspirado': inspired\n",
        "    }\n",
        "\n",
        "    # Escolha aleatória dentro do grupo de mensagens para o sentimento especificado\n",
        "    messages = feelings_map.get(feeling.lower(), ['Cada dia é uma nova oportunidade para ser feliz!'])\n",
        "    return random.choice(messages)\n",
        "\n",
        "def main():\n",
        "    print(\"Bem-vindo ao Café com Poesia!\")\n",
        "    feeling = input(\"Como você está se sentindo hoje? Descreva em uma palavra: \")\n",
        "    coffee_recommendation = recommend_coffee(feeling)\n",
        "    poetry = generate_poetry(feeling)\n",
        "    message = get_message(feeling)\n",
        "\n",
        "    print(\"\\nRecomendação de café para hoje:\\n\")\n",
        "    print(coffee_recommendation)\n",
        "    print(\"\\nSua poesia:\\n\")\n",
        "    print(poetry)\n",
        "    print(\"\\nMensagem:\\n\")\n",
        "    print(message)\n",
        "\n",
        "if __name__ == \"__main__\":\n",
        "    main()"
      ],
      "metadata": {
        "colab": {
          "base_uri": "https://localhost:8080/",
          "height": 781
        },
        "id": "EYUjLcCgPdc5",
        "outputId": "c576141d-5c95-415b-d22e-4ac0ca3676ca"
      },
      "execution_count": 27,
      "outputs": [
        {
          "output_type": "stream",
          "name": "stdout",
          "text": [
            "Bem-vindo ao Café com Poesia!\n",
            "Como você está se sentindo hoje? Descreva em uma palavra: contente\n",
            "\n",
            "Recomendação de café para hoje:\n",
            "\n",
            "Um café americano clássico para acompanhar seu dia!\n",
            "\n",
            "Sua poesia:\n",
            "\n",
            "**Contentamento**\n",
            "\n",
            "No coração, uma paz serena,\n",
            "Um sentimento que acalma e serena.\n",
            "O peso do mundo, agora leve,\n",
            "A mente clara, o espírito em prece.\n",
            "\n",
            "Gratidão enche a minha alma,\n",
            "Por tudo o que tenho, pelo que me chama.\n",
            "A vida, um presente, uma bênção,\n",
            "Cada momento, uma doce lição.\n",
            "\n",
            "Sem preocupações, sem ansiedades,\n",
            "Vivo no presente, com felicidades.\n",
            "O passado e o futuro, deixados para trás,\n",
            "No momento, encontro a minha paz.\n",
            "\n",
            "Como uma brisa suave, que acaricia,\n",
            "O contentamento me envolve, me nutre e me vicia.\n",
            "Um estado de graça, um sentimento divino,\n",
            "Onde a felicidade encontra o seu destino.\n",
            "\n",
            "No sorriso das crianças, na beleza da natureza,\n",
            "Encontro motivos para esta grande riqueza.\n",
            "A simplicidade me traz alegria,\n",
            "A vida é bela, uma doce melodia.\n",
            "\n",
            "Contente com o que sou, com o que tenho,\n",
            "Não busco mais, pois já possuo o meu reino.\n",
            "Um coração grato, uma alma serena,\n",
            "No contentamento, encontro a minha plena.\n",
            "\n",
            "Mensagem:\n",
            "\n",
            "Cada dia é uma nova oportunidade para ser feliz!\n"
          ]
        }
      ]
    }
  ]
}